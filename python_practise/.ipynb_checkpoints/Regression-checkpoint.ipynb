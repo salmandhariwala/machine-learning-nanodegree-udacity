{
 "cells": [
  {
   "cell_type": "code",
   "execution_count": 17,
   "metadata": {
    "collapsed": false
   },
   "outputs": [
    {
     "name": "stdout",
     "output_type": "stream",
     "text": [
      "slope : 0.0996677740864\n",
      "intercept : -0.0299003322259\n",
      "prediction for 45 is [ 4.4551495]\n"
     ]
    },
    {
     "name": "stderr",
     "output_type": "stream",
     "text": [
      "/usr/local/lib/python2.7/dist-packages/sklearn/utils/validation.py:386: DeprecationWarning: Passing 1d arrays as data is deprecated in 0.17 and willraise ValueError in 0.19. Reshape your data either using X.reshape(-1, 1) if your data has a single feature or X.reshape(1, -1) if it contains a single sample.\n",
      "  DeprecationWarning)\n"
     ]
    }
   ],
   "source": [
    "\n",
    "from sklearn import linear_model\n",
    "\n",
    "X = [[0], [11], [20]]\n",
    "Y = [0, 1, 2]\n",
    "\n",
    "clf = linear_model.LinearRegression()\n",
    "clf.fit (X,Y)\n",
    "print('slope : '+str(clf.coef_[0]))\n",
    "print('intercept : '+str(clf.intercept_))\n",
    "\n",
    "dataPoint = 45\n",
    "print('prediction for '+str(dataPoint)+' is '+str(clf.predict([dataPoint])))"
   ]
  },
  {
   "cell_type": "code",
   "execution_count": 20,
   "metadata": {
    "collapsed": false
   },
   "outputs": [
    {
     "name": "stdout",
     "output_type": "stream",
     "text": [
      "slope : [ 5.   2.5]\n",
      "intercept : -200.0\n"
     ]
    }
   ],
   "source": [
    "\n",
    "from sklearn import linear_model\n",
    "\n",
    "X = [[20,80], [40,80], [60,80],[20,100], [40,100], [60,100],[20,120], [40,120], [60,120]]\n",
    "Y = [100, 200, 300,150,250,350,200,300,400]\n",
    "\n",
    "clf = linear_model.LinearRegression()\n",
    "clf.fit (X,Y)\n",
    "print('slope : '+str(clf.coef_))\n",
    "print('intercept : '+str(clf.intercept_))\n",
    "\n",
    "#dataPoint = 45\n",
    "#print('prediction for '+str(dataPoint)+' is '+str(clf.predict([dataPoint])))"
   ]
  }
 ],
 "metadata": {
  "kernelspec": {
   "display_name": "Python 2",
   "language": "python",
   "name": "python2"
  },
  "language_info": {
   "codemirror_mode": {
    "name": "ipython",
    "version": 2
   },
   "file_extension": ".py",
   "mimetype": "text/x-python",
   "name": "python",
   "nbconvert_exporter": "python",
   "pygments_lexer": "ipython2",
   "version": "2.7.6"
  }
 },
 "nbformat": 4,
 "nbformat_minor": 1
}
