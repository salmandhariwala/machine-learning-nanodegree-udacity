{
 "cells": [
  {
   "cell_type": "markdown",
   "metadata": {},
   "source": [
    "# Chapter : DataTypes"
   ]
  },
  {
   "cell_type": "code",
   "execution_count": 8,
   "metadata": {
    "collapsed": false
   },
   "outputs": [
    {
     "data": {
      "text/plain": [
       "(int, 30941032, 23)"
      ]
     },
     "execution_count": 8,
     "metadata": {},
     "output_type": "execute_result"
    }
   ],
   "source": [
    "## integer\n",
    "\n",
    "int_a = 23\n",
    "(type(int_a),id(int_a),int_a)"
   ]
  },
  {
   "cell_type": "code",
   "execution_count": null,
   "metadata": {
    "collapsed": true
   },
   "outputs": [],
   "source": [
    "# long\n",
    "\n",
    "long_a = 23\n",
    "(type(long_a),id(long_a),long_a)"
   ]
  },
  {
   "cell_type": "code",
   "execution_count": 10,
   "metadata": {
    "collapsed": false
   },
   "outputs": [
    {
     "data": {
      "text/plain": [
       "(float, 40271424, 23.23)"
      ]
     },
     "execution_count": 10,
     "metadata": {},
     "output_type": "execute_result"
    }
   ],
   "source": [
    "## float\n",
    "\n",
    "float_a = 23.23\n",
    "(type(float_a),id(float_a),float_a)"
   ]
  },
  {
   "cell_type": "code",
   "execution_count": 25,
   "metadata": {
    "collapsed": false
   },
   "outputs": [
    {
     "data": {
      "text/plain": [
       "(bool, 9544496, False)"
      ]
     },
     "execution_count": 25,
     "metadata": {},
     "output_type": "execute_result"
    }
   ],
   "source": [
    "# boolean\n",
    "\n",
    "boolean_a = False\n",
    "(type(boolean_a),id(boolean_a),boolean_a)"
   ]
  },
  {
   "cell_type": "code",
   "execution_count": 26,
   "metadata": {
    "collapsed": false
   },
   "outputs": [
    {
     "data": {
      "text/plain": [
       "(complex, 139885813447824, (10+20j))"
      ]
     },
     "execution_count": 26,
     "metadata": {},
     "output_type": "execute_result"
    }
   ],
   "source": [
    "# complex\n",
    "\n",
    "complex_a  = complex( 10 + 20j )\n",
    "(type(complex_a),id(complex_a),complex_a)\n",
    "\n",
    "\n",
    "#complex_a.real, complex_a.imag"
   ]
  },
  {
   "cell_type": "code",
   "execution_count": 14,
   "metadata": {
    "collapsed": false
   },
   "outputs": [
    {
     "data": {
      "text/plain": [
       "(str, 139885813707808, 'salman')"
      ]
     },
     "execution_count": 14,
     "metadata": {},
     "output_type": "execute_result"
    }
   ],
   "source": [
    "## string\n",
    "\n",
    "str_a = \"salman\"\n",
    "(type(str_a),id(str_a),str_a)\n",
    "\n"
   ]
  },
  {
   "cell_type": "code",
   "execution_count": 29,
   "metadata": {
    "collapsed": false
   },
   "outputs": [
    {
     "name": "stdout",
     "output_type": "stream",
     "text": [
      "I love 'Python' \n",
      "Python\n",
      "is\n",
      "a nice language\n",
      "to work\n",
      "Hello Hello Hello Hello Hello Hello Hello Hello Hello Hello Hello Hello Hello Hello Hello Hello Hello Hello Hello Hello Hello Hello Hello Hello Hello Hello Hello Hello Hello Hello Hello Hello Hello Hello Hello Hello Hello Hello Hello Hello Hello Hello Hello Hello Hello Hello Hello Hello Hello Hello Hello Hello Hello Hello Hello Hello Hello Hello Hello Hello Hello Hello Hello Hello Hello Hello Hello Hello Hello Hello Hello Hello Hello Hello Hello Hello Hello Hello Hello Hello Hello Hello Hello Hello Hello Hello Hello Hello Hello Hello Hello Hello Hello Hello Hello Hello Hello Hello Hello Hello \n"
     ]
    }
   ],
   "source": [
    "p = \"I love 'Python' \"\n",
    "print(p)\n",
    "\n",
    "#----------\n",
    "\n",
    "s = \"\"\"Python\n",
    "is\n",
    "a nice language\n",
    "to work\"\"\"\n",
    "\n",
    "print(s)\n",
    "\n",
    "#--------\n",
    "\n",
    "h = \"Hello \" * 100\n",
    "print(h)\n",
    "\n",
    "#--------\n",
    "\n"
   ]
  },
  {
   "cell_type": "markdown",
   "metadata": {},
   "source": [
    "# Chapter : Operators"
   ]
  },
  {
   "cell_type": "code",
   "execution_count": 52,
   "metadata": {
    "collapsed": false
   },
   "outputs": [
    {
     "name": "stdout",
     "output_type": "stream",
     "text": [
      "8\n",
      "6\n",
      "3.33333333333\n",
      "3.0\n",
      "1.0\n",
      "5\n",
      "-1\n"
     ]
    }
   ],
   "source": [
    "#Arithmatic\n",
    "\n",
    "#raise to\n",
    "print(2**3)\n",
    "\n",
    "#multiplication\n",
    "print(2*3)\n",
    "\n",
    "#division\n",
    "print(10.0/3)\n",
    "print(10.0//3)\n",
    "print(10.0%3)\n",
    "\n",
    "#addition\n",
    "print(2+3)\n",
    "\n",
    "#substracction\n",
    "print(2-3)"
   ]
  },
  {
   "cell_type": "code",
   "execution_count": 51,
   "metadata": {
    "collapsed": false
   },
   "outputs": [
    {
     "name": "stdout",
     "output_type": "stream",
     "text": [
      "False\n",
      "True\n",
      "False\n",
      "False\n",
      "True\n",
      "True\n"
     ]
    }
   ],
   "source": [
    "#comparision\n",
    "\n",
    "x=10\n",
    "y=20\n",
    "\n",
    "print(x>y)\n",
    "print(x<y)\n",
    "print(x==y)\n",
    "\n",
    "print(x>=y)\n",
    "print(x<=y)\n",
    "print(x!=y)"
   ]
  },
  {
   "cell_type": "code",
   "execution_count": 2,
   "metadata": {
    "collapsed": false
   },
   "outputs": [
    {
     "name": "stdout",
     "output_type": "stream",
     "text": [
      "True\n",
      "False\n",
      "False\n"
     ]
    }
   ],
   "source": [
    "#Special Operators\n",
    "\n",
    "# is\n",
    "\n",
    "x=10\n",
    "xx = 10.0\n",
    "\n",
    "print(x==xx)\n",
    "print(x is xx)\n",
    "id(x),id(xx)\n",
    "\n",
    "#in\n",
    "A = [ 10, 20, 30 , 40 ]\n",
    "print(100 in A)\n"
   ]
  },
  {
   "cell_type": "code",
   "execution_count": 16,
   "metadata": {
    "collapsed": false
   },
   "outputs": [
    {
     "name": "stdout",
     "output_type": "stream",
     "text": [
      "5\n",
      "15\n",
      "5\n",
      "6\n",
      "3.33333333333\n",
      "3.0\n",
      "100\n"
     ]
    }
   ],
   "source": [
    "#Assignment\n",
    "\n",
    "\n",
    "x=0\n",
    "x = x + 5\n",
    "print(x)\n",
    "\n",
    "x=10\n",
    "x += 5\n",
    "print(x)\n",
    "\n",
    "x=10\n",
    "x -= 5\n",
    "print(x)\n",
    "\n",
    "x=3\n",
    "x *= 2\n",
    "print(x)\n",
    "\n",
    "x=10.0\n",
    "x /= 3\n",
    "print(x)\n",
    "\n",
    "x=10.0\n",
    "x //=3\n",
    "print(x)\n",
    "\n",
    "x=10\n",
    "x **= 2\n",
    "print(x)\n",
    "\n"
   ]
  },
  {
   "cell_type": "markdown",
   "metadata": {},
   "source": [
    "# Chapter : Tuple"
   ]
  },
  {
   "cell_type": "code",
   "execution_count": null,
   "metadata": {
    "collapsed": true
   },
   "outputs": [],
   "source": []
  }
 ],
 "metadata": {
  "kernelspec": {
   "display_name": "Python 2",
   "language": "python",
   "name": "python2"
  },
  "language_info": {
   "codemirror_mode": {
    "name": "ipython",
    "version": 2
   },
   "file_extension": ".py",
   "mimetype": "text/x-python",
   "name": "python",
   "nbconvert_exporter": "python",
   "pygments_lexer": "ipython2",
   "version": "2.7.6"
  }
 },
 "nbformat": 4,
 "nbformat_minor": 1
}
